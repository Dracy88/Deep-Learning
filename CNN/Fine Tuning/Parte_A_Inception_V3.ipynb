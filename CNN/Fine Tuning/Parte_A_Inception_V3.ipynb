{
  "nbformat": 4,
  "nbformat_minor": 0,
  "metadata": {
    "colab": {
      "name": "Parte_A_Inception_V3.ipynb",
      "version": "0.3.2",
      "provenance": [],
      "collapsed_sections": []
    },
    "kernelspec": {
      "name": "python3",
      "display_name": "Python 3"
    },
    "accelerator": "GPU"
  },
  "cells": [
    {
      "metadata": {
        "id": "aE249M260ctm",
        "colab_type": "text"
      },
      "cell_type": "markdown",
      "source": [
        "# **Project AML**\n",
        "\n",
        "# **Parte A:** Fine tuning based on Inception-V3"
      ]
    },
    {
      "metadata": {
        "id": "3Ng_1DDQwf8v",
        "colab_type": "text"
      },
      "cell_type": "markdown",
      "source": [
        "<h2>1. Importing Library</h2>"
      ]
    },
    {
      "metadata": {
        "id": "GGN40YQW5O7w",
        "colab_type": "code",
        "colab": {}
      },
      "cell_type": "code",
      "source": [
        "import numpy\n",
        "import matplotlib.pyplot as plt\n",
        "import datetime\n",
        "\n",
        "from keras.callbacks import EarlyStopping, ModelCheckpoint\n",
        "from keras.preprocessing.image import ImageDataGenerator\n",
        "from keras.models import Sequential\n",
        "from keras.layers.core import Flatten, Dense, Dropout\n",
        "from keras.layers.convolutional import Convolution2D, MaxPooling2D, ZeroPadding2D\n",
        "from keras.optimizers import Adam\n",
        "from keras.applications.inception_v3 import InceptionV3\n",
        "from keras.preprocessing import image\n",
        "from keras.models import Model\n",
        "from keras.layers import Dense, GlobalAveragePooling2D\n",
        "from keras import backend as K"
      ],
      "execution_count": 0,
      "outputs": []
    },
    {
      "metadata": {
        "id": "N4VxicdI0otr",
        "colab_type": "code",
        "colab": {}
      },
      "cell_type": "code",
      "source": [
        "\n",
        "''' Fix seed for reproducibility '''\n",
        "seed = 42\n",
        "numpy.random.seed(seed)"
      ],
      "execution_count": 0,
      "outputs": []
    },
    {
      "metadata": {
        "id": "4EeaCeeh1GY9",
        "colab_type": "code",
        "colab": {}
      },
      "cell_type": "code",
      "source": [
        "''' Access to Drive directory '''\n",
        "from google.colab import drive\n",
        "drive.mount('/content/gdrive/')"
      ],
      "execution_count": 0,
      "outputs": []
    },
    {
      "metadata": {
        "id": "4-F8KgZ62gsA",
        "colab_type": "text"
      },
      "cell_type": "markdown",
      "source": [
        "<h2>2. Pre-Processing: Data Augmentation</h2>"
      ]
    },
    {
      "metadata": {
        "id": "YF0ZtFzV24mp",
        "colab_type": "code",
        "colab": {}
      },
      "cell_type": "code",
      "source": [
        "# THIS IS GENERAL FUNCTION FOR DATA AUGMENTATION, WITHOUT ARGOMENT OF IMAGEDATAGENERATOR..\n",
        "\n",
        "def data_augmentation(path):\n",
        "\n",
        "    \"\"\"\n",
        "    This function make data augmentation and generate data from directory, only for training.\n",
        "\n",
        "    :param path: is path of train\n",
        "\n",
        "    :return: data generated from directory\n",
        "\n",
        "    \"\"\"\n",
        "\n",
        "    ''' TO DO ARGOMENTI PER DATA AUGMENTATION'''\n",
        "    generator = ImageDataGenerator(rescale=1. / 255)\n",
        "\n",
        "    data = generator.flow_from_directory(path,\n",
        "                                         target_size=(224, 224),\n",
        "                                         batch_size=32,\n",
        "                                         class_mode='categorical',\n",
        "                                         shuffle=True)\n",
        "\n",
        "    return data\n",
        "\n",
        "\n",
        "# THIS IS REAL FUNCTION FOR DATA AUGMENTATION, WITH ARGOMENT OF IMAGEDATAGENERATOR\n",
        "  \n",
        "\n",
        "def data_augmentation1(path):\n",
        "\n",
        "    \"\"\"\n",
        "    This function make data augmentation and generate data from directory, only for training.\n",
        "\n",
        "    :param path: is path of train\n",
        "\n",
        "    :return: data generated from directory\n",
        "\n",
        "    \"\"\"\n",
        "\n",
        "    ''' TO DO ARGOMENTI PER DATA AUGMENTATION'''\n",
        "    generator = ImageDataGenerator(\n",
        "        #preprocessing_function=keras.applications.resnet50.preprocess_input,\n",
        "                    rescale=1./255, # Normalizing all channels [0-1]\n",
        "                    rotation_range=45, # Random rotation up to 45° (both verseses) \n",
        "                    height_shift_range=0.5, # Random vertically translation (up or down) up to 20%\n",
        "                    width_shift_range=0.5, # Random horizontally translation (left or right) up to 20%\n",
        "                    horizontal_flip=True, # Random mirroring of the image\n",
        "                    brightness_range=(0.1, 1.2), # Random brigthening of the image\n",
        "                    fill_mode='wrap') # Fill the images copying the nearest pixel\n",
        "    \n",
        "    data = generator.flow_from_directory(path,\n",
        "                                         target_size=(224, 224),\n",
        "                                         batch_size=32,\n",
        "                                         class_mode='categorical',\n",
        "                                         shuffle=True)\n",
        "\n",
        "    return data\n",
        "\n",
        "\n",
        "def data_generator(path):\n",
        "\n",
        "    \"\"\"\n",
        "    This function generate data from directory\n",
        "\n",
        "    :param path: is path of data\n",
        "\n",
        "    :return:\n",
        "    \"\"\"\n",
        "\n",
        "    generator = ImageDataGenerator(rescale=1. / 255)\n",
        "    data = generator.flow_from_directory(path,\n",
        "                                         target_size=(224, 224),\n",
        "                                         batch_size=32,\n",
        "                                         class_mode='categorical',\n",
        "                                         shuffle=False)\n",
        "    return data\n",
        "  \n",
        "  \n",
        "def test_generator(path):\n",
        "\n",
        "    \"\"\"\n",
        "    This function generate data from directory\n",
        "\n",
        "    :param path: is path of data\n",
        "\n",
        "    :return:\n",
        "    \"\"\"\n",
        "\n",
        "    generator = ImageDataGenerator(rescale=1. / 255)\n",
        "    data = generator.flow_from_directory(\n",
        "                          path, # target directory\n",
        "                          target_size=(224, 224), # all images will be resized to 224x224\n",
        "                          batch_size=1,\n",
        "                          #color_mode=\"rgb\",\n",
        "                          class_mode='categorical', # None, to return only the images.\n",
        "                          shuffle=False, # False, because we need to yield the images in “order”, to predict the outputs and match them with their unique filenames.\n",
        "                          seed=seed)\n",
        "\n",
        "    return data\n"
      ],
      "execution_count": 0,
      "outputs": []
    },
    {
      "metadata": {
        "id": "DSkP988H4Cgv",
        "colab_type": "text"
      },
      "cell_type": "markdown",
      "source": [
        "<h2>3. Modelling</h2>\n",
        "\n",
        "1) Import structure and weight of Inception-V3\n",
        "\n",
        "2) Editing structure of Inception\n",
        "\n",
        "3) Define Training\n",
        "\n",
        "4) Define Testing"
      ]
    },
    {
      "metadata": {
        "id": "KAI5dq5bGIW3",
        "colab_type": "code",
        "colab": {}
      },
      "cell_type": "code",
      "source": [
        "def inceptionV3():\n",
        "\n",
        "    \"\"\"\n",
        "    This function modify structure of VGG16 and add new layer.\n",
        "\n",
        "    :param path: path of weights\n",
        "\n",
        "    :return: new model modified\n",
        "    \"\"\"\n",
        "\n",
        "    # create the base pre-trained model\n",
        "    base_model = InceptionV3(weights='imagenet', include_top=False)\n",
        "    \n",
        "    # add a global spatial average pooling layer\n",
        "    x = base_model.output\n",
        "    x = GlobalAveragePooling2D()(x)\n",
        "    # let's add a fully-connected layer\n",
        "    x = Dense(1024, activation='relu')(x)\n",
        "    x = Dropout(0.5)(x)\n",
        "    output = Dense(102, activation='softmax')(x)\n",
        "    model = Model(inputs=base_model.input, outputs=output)\n",
        "\n",
        "    # training the top 2 inception blocks the first 249 layers and unfreeze the rest:\n",
        "    print(len(model.layers))\n",
        "    for layer in model.layers[:312]:\n",
        "       layer.trainable = False\n",
        "    for layer in model.layers[312:]:\n",
        "       layer.trainable = True\n",
        "\n",
        "    return model\n"
      ],
      "execution_count": 0,
      "outputs": []
    },
    {
      "metadata": {
        "id": "XGSX-VYJ360f",
        "colab_type": "code",
        "colab": {}
      },
      "cell_type": "code",
      "source": [
        "def training(model, loss, optimizer, train, validation, epoch):\n",
        "\n",
        "    \"\"\"\n",
        "    This function compile model, training data, calculate execution time and plot result.\n",
        "\n",
        "    :param model: CNN model\n",
        "    :param loss: loss function\n",
        "    :param optimizer: optimizer function\n",
        "    :param train: train data\n",
        "    :param validation: validation data\n",
        "    :param epoch: epochs\n",
        "\n",
        "    :return: model trained on train data\n",
        "    \"\"\"\n",
        "\n",
        "    # Compile model\n",
        "    model.compile(loss=loss,\n",
        "                  optimizer=optimizer,\n",
        "                  metrics=['accuracy'])\n",
        "\n",
        "    # Start timer\n",
        "    time_start = datetime.datetime.now()\n",
        "\n",
        "    # Fit model\n",
        "    result = model.fit_generator(train, \n",
        "                                 validation_data=validation, \n",
        "                                 validation_steps=5, \n",
        "                                 steps_per_epoch=5,  \n",
        "                                 #callbacks=[earlystopper],\n",
        "                                 epochs=epoch)\n",
        "\n",
        "    # Stop timer\n",
        "    time_stop = datetime.datetime.now()\n",
        "\n",
        "    # Print time\n",
        "    print(\"Execution time:\", (time_stop - time_start).total_seconds(), \"secondi\")\n",
        "    \n",
        "    print('Loss on train set:', round((result.history['loss'])[-1], 3))\n",
        "    print('Loss on validation set:', round((result.history['val_loss'])[-1], 3))\n",
        "    \n",
        "    print('Accuracy on train set:', round((result.history['acc'])[-1], 3))\n",
        "    print('Accuracy on validation set:', round((result.history['val_acc'])[-1], 3))\n",
        "\n",
        "    # Show Plot\n",
        "    show_history(result, 'acc', 'val_acc', 'accuracy', 'epoch', 'train', 'validation', 1, epoch)\n",
        "    show_history(result, 'loss', 'val_loss', 'loss', 'epoch', 'train', 'validation', 1, epoch)\n",
        "\n",
        "    return model\n",
        "\n",
        "\n",
        "def show_history(result, measure1='', measure2='', metrics='', unit='', set1='', set2='', acc=None, epochs=100):\n",
        "\n",
        "    \"\"\"\n",
        "    This function is util for plot history\n",
        "\n",
        "    :param result: contain result data\n",
        "    :param measure1: e.g. 'acc'\n",
        "    :param measure2: e.g. 'val_acc\n",
        "    :param metrics:  e.g. accuracy\n",
        "    :param unit: e.g. epoch\n",
        "    :param set1: e.g. training set\n",
        "    :param set2: e.g. validation set\n",
        "    :param epochs: e.g. number of epoch for plot\n",
        "    :param acc:\n",
        "\n",
        "    :return:\n",
        "    \"\"\"\n",
        "\n",
        "    plt.plot(result.history[measure1])\n",
        "    plt.plot(result.history[measure2])\n",
        "    axes = plt.gca()\n",
        "    axes.set_xlim([0, epochs])\n",
        "    #axes.set_ylim([0, 1])\n",
        "\n",
        "    plt.ylabel(metrics)\n",
        "    plt.xlabel(unit)\n",
        "    plt.legend([set1, set2], loc='upper left')\n",
        "    plt.show()\n",
        "\n",
        "\n",
        "\n",
        "def testing(model, test, batch):\n",
        "    \n",
        "    \"\"\"\n",
        "    This function testing the test data and give in output the result\n",
        "    \n",
        "    :param model: model trained in training.\n",
        "    :param test: data to test\n",
        "    :param batch: dimension of batch\n",
        "\n",
        "    \"\"\"\n",
        "\n",
        "    score = model.evaluate_generator(test, batch)\n",
        "\n",
        "    print(score[0], 'loss')\n",
        "    print(score[1], 'accuracy')\n"
      ],
      "execution_count": 0,
      "outputs": []
    },
    {
      "metadata": {
        "id": "oletOSUF5WKf",
        "colab_type": "text"
      },
      "cell_type": "markdown",
      "source": [
        "<h2>4. Experiment</h2>\n",
        "\n",
        "In this part:\n",
        "\n",
        "1) Define path of data\n",
        "\n",
        "2) Define Hyper-parameter\n",
        "\n",
        "3) Run Pre-processing Part\n",
        "\n",
        "4) Run Model Part"
      ]
    },
    {
      "metadata": {
        "id": "-mqHb3095Qxs",
        "colab_type": "code",
        "colab": {}
      },
      "cell_type": "code",
      "source": [
        "''' path in drive '''\n",
        "path_train = '/content/gdrive/My Drive/Colab Notebooks/dataset/aml-project/TrainingSet/'\n",
        "path_validation = '/content/gdrive/My Drive/Colab Notebooks/dataset/aml-project/ValidationSet/'\n",
        "path_test = '/content/gdrive/My Drive/Colab Notebooks/dataset/aml-project/TestSet/'\n",
        "\n",
        "path_weights = '/content/gdrive/My Drive/Colab Notebooks/model/vgg16_weights_tf_dim_ordering_tf_kernels.h5'"
      ],
      "execution_count": 0,
      "outputs": []
    },
    {
      "metadata": {
        "id": "qEb2mmuL7dUU",
        "colab_type": "code",
        "colab": {}
      },
      "cell_type": "code",
      "source": [
        "''' Hyper-parameter '''\n",
        "batch_size = 64\n",
        "epochs = 200\n",
        "loss = 'categorical_crossentropy'\n",
        "lr = 0.0001\n",
        "#decay = lr / epochs\n",
        "decay = 0\n",
        "adam = Adam(lr=lr, beta_1=0.9, beta_2=0.999, epsilon=None, decay=decay, amsgrad=False)\n",
        "optimizer = adam\n",
        "\n",
        "checkpointer = ModelCheckpoint(monitor='val_loss', filepath='/content/gdrive/My Drive/Colab Notebooks/' + \"output_file\" + \".hdf5\", verbose=1, save_best_only=True)\n",
        "earlystopper = EarlyStopping(monitor='val_loss', patience=30, verbose=1)"
      ],
      "execution_count": 0,
      "outputs": []
    },
    {
      "metadata": {
        "id": "XGAerjSu7px0",
        "colab_type": "code",
        "colab": {}
      },
      "cell_type": "code",
      "source": [
        "''' Pre-Processing'''\n",
        "train_generator = data_augmentation1(path_train)\n",
        "validation_generator = data_generator(path_validation)\n",
        "test_generator = test_generator(path_test)"
      ],
      "execution_count": 0,
      "outputs": []
    },
    {
      "metadata": {
        "id": "sLB8ePAi7s01",
        "colab_type": "code",
        "colab": {}
      },
      "cell_type": "code",
      "source": [
        "''' Structure of Model '''\n",
        "model = inceptionV3()\n",
        "\n",
        "print(model.summary())"
      ],
      "execution_count": 0,
      "outputs": []
    },
    {
      "metadata": {
        "id": "4WAUjyDX7vQX",
        "colab_type": "code",
        "colab": {}
      },
      "cell_type": "code",
      "source": [
        "''' Training model'''\n",
        "training(model, loss, optimizer, train_generator, validation_generator, epochs)"
      ],
      "execution_count": 0,
      "outputs": []
    },
    {
      "metadata": {
        "id": "Dec47hLv71Tl",
        "colab_type": "code",
        "colab": {}
      },
      "cell_type": "code",
      "source": [
        "''' Testing model'''\n",
        "\n",
        "time_start = datetime.datetime.now()\n",
        "\n",
        "# Fit model\n",
        "testing(model, test_generator, batch=6148)\n",
        "# Stop timer\n",
        "time_stop = datetime.datetime.now()\n",
        "\n",
        "# Print time\n",
        "print(\"Execution time:\", (time_stop - time_start).total_seconds(), \"secondi\")"
      ],
      "execution_count": 0,
      "outputs": []
    },
    {
      "metadata": {
        "id": "FdLqe5Cda6gP",
        "colab_type": "code",
        "colab": {}
      },
      "cell_type": "code",
      "source": [
        ""
      ],
      "execution_count": 0,
      "outputs": []
    }
  ]
}