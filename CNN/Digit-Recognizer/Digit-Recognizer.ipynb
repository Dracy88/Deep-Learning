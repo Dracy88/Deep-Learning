{
 "cells": [
  {
   "cell_type": "markdown",
   "metadata": {
    "colab_type": "text",
    "id": "Uk6Ha9a2Umnr"
   },
   "source": [
    "<h2>1. Importing Libraries</h2>\n"
   ]
  },
  {
   "cell_type": "code",
   "execution_count": 0,
   "metadata": {
    "colab": {},
    "colab_type": "code",
    "id": "QOfz4VJlJMHw"
   },
   "outputs": [],
   "source": [
    "import keras\n",
    "from keras.datasets import mnist\n",
    "from keras.models import Sequential\n",
    "from keras.layers import Dense, Dropout, Flatten\n",
    "from keras.layers import Conv2D, MaxPooling2D\n",
    "from keras import optimizers\n",
    "\n",
    "from sklearn.model_selection import train_test_split\n",
    "\n",
    "import matplotlib.pyplot as plt\n",
    "import numpy as np\n",
    "import datetime"
   ]
  },
  {
   "cell_type": "markdown",
   "metadata": {
    "colab_type": "text",
    "id": "LY-oFRdXUvJp"
   },
   "source": [
    "<h2>2. Loading Datas and Preprocessing</h2>"
   ]
  },
  {
   "cell_type": "code",
   "execution_count": 0,
   "metadata": {
    "colab": {
     "base_uri": "https://localhost:8080/",
     "height": 68
    },
    "colab_type": "code",
    "id": "f_GOFm9BJMH3",
    "outputId": "6a4af180-1a67-4af8-cc81-571a141778bc"
   },
   "outputs": [
    {
     "name": "stdout",
     "output_type": "stream",
     "text": [
      "Images shape: (48000, 28, 28, 1)\n",
      "# Train samples: 48000\n",
      "# Test samples: 10000\n"
     ]
    }
   ],
   "source": [
    "# Loading data\n",
    "(x_train, y_train), (x_test, y_test) = mnist.load_data()\n",
    "\n",
    "# Getting data dimensions\n",
    "n_rows, n_cols, n_channels = x_train.shape[1], x_train.shape[2], 1\n",
    "num_classes = 10\n",
    "\n",
    "x_train = x_train.reshape(x_train.shape[0], n_rows, n_cols, n_channels)\n",
    "x_test = x_test.reshape(x_test.shape[0], n_rows, n_cols, n_channels)\n",
    "\n",
    "x_train = x_train / 255\n",
    "x_test = x_test / 255\n",
    "\n",
    "# One-hot encoding\n",
    "y_train = keras.utils.to_categorical(y_train, num_classes)\n",
    "y_test = keras.utils.to_categorical(y_test, num_classes)\n",
    "\n",
    "x_train, x_validation, y_train, y_validation = train_test_split(x_train, \n",
    "                                                                y_train, \n",
    "                                                                test_size=0.2, \n",
    "                                                                shuffle=True, \n",
    "                                                                stratify=y_train)\n",
    "\n",
    "print('Images shape:', x_train.shape)\n",
    "print('# Train samples:', x_train.shape[0])\n",
    "print('# Test samples:', x_test.shape[0])"
   ]
  },
  {
   "cell_type": "markdown",
   "metadata": {
    "colab_type": "text",
    "id": "DhKHRDJ9U2tV"
   },
   "source": [
    "<h2>3. Model Settings</h2>"
   ]
  },
  {
   "cell_type": "markdown",
   "metadata": {
    "colab_type": "text",
    "id": "sGczs4_SVCeI"
   },
   "source": [
    "<h3>3.1 Setting parameters</h3>"
   ]
  },
  {
   "cell_type": "code",
   "execution_count": 0,
   "metadata": {
    "colab": {},
    "colab_type": "code",
    "id": "dozs_W9zZty7"
   },
   "outputs": [],
   "source": [
    "# Setting model's parameters\n",
    "batch_size = 128\n",
    "epochs = 30\n",
    "adam = optimizers.Adam(lr=0.0005, \n",
    "                       beta_1=0.9, \n",
    "                       beta_2=0.999, \n",
    "                       epsilon=None, \n",
    "                       decay=0.0, \n",
    "                       amsgrad=False)\n",
    "loss = keras.losses.categorical_crossentropy"
   ]
  },
  {
   "cell_type": "markdown",
   "metadata": {
    "colab_type": "text",
    "id": "Lr9S-KKoVIYG"
   },
   "source": [
    "<h3>3.2 Setting the Neural Network</h3>"
   ]
  },
  {
   "cell_type": "code",
   "execution_count": 0,
   "metadata": {
    "colab": {},
    "colab_type": "code",
    "id": "gjb1NQKhJMIB"
   },
   "outputs": [],
   "source": [
    "# Defining the model\n",
    "def baseline_model():\n",
    "    model = Sequential()\n",
    "    \n",
    "    # ------------------ 1° Layer (Conv) ------------------\n",
    "    model.add(Conv2D(30, \n",
    "                     kernel_size=(3, 3), \n",
    "                     activation='relu', \n",
    "                     input_shape=(n_rows, n_cols, n_channels)))\n",
    "    model.add(Dropout(0.2))\n",
    "    model.add(MaxPooling2D(pool_size=(2, 2)))\n",
    "    \n",
    "    # ------------------ 2° Layer (Conv) ------------------\n",
    "    model.add(Conv2D(10, \n",
    "                     kernel_size=(3, 3), \n",
    "                     activation='relu'))\n",
    "    model.add(Dropout(0.1))\n",
    "    model.add(MaxPooling2D(pool_size=(2, 2)))\n",
    "    \n",
    "    # ------------------ 3° Layer (FC) ------------------\n",
    "    model.add(Flatten())\n",
    "    model.add(Dense(num_classes, activation='softmax'))\n",
    "\n",
    "    # Compile model\n",
    "    model.compile(loss=loss,\n",
    "                  optimizer=adam,\n",
    "                  metrics=['accuracy', 'mae'])\n",
    "    \n",
    "    return model"
   ]
  },
  {
   "cell_type": "markdown",
   "metadata": {
    "colab_type": "text",
    "id": "KmGQ0ctRVO8g"
   },
   "source": [
    "<h2>4. Training and Performance</h2>"
   ]
  },
  {
   "cell_type": "code",
   "execution_count": 0,
   "metadata": {
    "colab": {
     "base_uri": "https://localhost:8080/",
     "height": 1193
    },
    "colab_type": "code",
    "id": "c-M1FbMzJMIF",
    "outputId": "8797eaaf-03de-4942-9a38-5e189e352c7e"
   },
   "outputs": [
    {
     "name": "stdout",
     "output_type": "stream",
     "text": [
      "Train on 48000 samples, validate on 12000 samples\n",
      "Epoch 1/30\n",
      "48000/48000 [==============================] - 6s 125us/step - loss: 0.7454 - acc: 0.7838 - mean_absolute_error: 0.0725 - val_loss: 0.2775 - val_acc: 0.9290 - val_mean_absolute_error: 0.0342\n",
      "Epoch 2/30\n",
      "48000/48000 [==============================] - 5s 110us/step - loss: 0.1928 - acc: 0.9421 - mean_absolute_error: 0.0202 - val_loss: 0.1773 - val_acc: 0.9544 - val_mean_absolute_error: 0.0217\n",
      "Epoch 3/30\n",
      "48000/48000 [==============================] - 5s 109us/step - loss: 0.1428 - acc: 0.9572 - mean_absolute_error: 0.0147 - val_loss: 0.1411 - val_acc: 0.9642 - val_mean_absolute_error: 0.0171\n",
      "Epoch 4/30\n",
      "48000/48000 [==============================] - 5s 111us/step - loss: 0.1181 - acc: 0.9639 - mean_absolute_error: 0.0122 - val_loss: 0.1247 - val_acc: 0.9663 - val_mean_absolute_error: 0.0150\n",
      "Epoch 5/30\n",
      "48000/48000 [==============================] - 5s 109us/step - loss: 0.1034 - acc: 0.9679 - mean_absolute_error: 0.0106 - val_loss: 0.1088 - val_acc: 0.9693 - val_mean_absolute_error: 0.0130\n",
      "Epoch 6/30\n",
      "48000/48000 [==============================] - 5s 109us/step - loss: 0.0939 - acc: 0.9709 - mean_absolute_error: 0.0096 - val_loss: 0.0994 - val_acc: 0.9728 - val_mean_absolute_error: 0.0120\n",
      "Epoch 7/30\n",
      "48000/48000 [==============================] - 5s 109us/step - loss: 0.0864 - acc: 0.9740 - mean_absolute_error: 0.0088 - val_loss: 0.0926 - val_acc: 0.9731 - val_mean_absolute_error: 0.0111\n",
      "Epoch 8/30\n",
      "48000/48000 [==============================] - 5s 109us/step - loss: 0.0809 - acc: 0.9747 - mean_absolute_error: 0.0083 - val_loss: 0.0862 - val_acc: 0.9755 - val_mean_absolute_error: 0.0103\n",
      "Epoch 9/30\n",
      "48000/48000 [==============================] - 5s 110us/step - loss: 0.0764 - acc: 0.9766 - mean_absolute_error: 0.0078 - val_loss: 0.0831 - val_acc: 0.9772 - val_mean_absolute_error: 0.0097\n",
      "Epoch 10/30\n",
      "48000/48000 [==============================] - 5s 109us/step - loss: 0.0713 - acc: 0.9779 - mean_absolute_error: 0.0073 - val_loss: 0.0775 - val_acc: 0.9779 - val_mean_absolute_error: 0.0091\n",
      "Epoch 11/30\n",
      "48000/48000 [==============================] - 5s 112us/step - loss: 0.0684 - acc: 0.9789 - mean_absolute_error: 0.0070 - val_loss: 0.0785 - val_acc: 0.9764 - val_mean_absolute_error: 0.0091\n",
      "Epoch 12/30\n",
      "48000/48000 [==============================] - 5s 110us/step - loss: 0.0660 - acc: 0.9794 - mean_absolute_error: 0.0067 - val_loss: 0.0713 - val_acc: 0.9787 - val_mean_absolute_error: 0.0083\n",
      "Epoch 13/30\n",
      "48000/48000 [==============================] - 5s 109us/step - loss: 0.0614 - acc: 0.9810 - mean_absolute_error: 0.0063 - val_loss: 0.0733 - val_acc: 0.9795 - val_mean_absolute_error: 0.0084\n",
      "Epoch 14/30\n",
      "48000/48000 [==============================] - 5s 110us/step - loss: 0.0608 - acc: 0.9813 - mean_absolute_error: 0.0061 - val_loss: 0.0731 - val_acc: 0.9790 - val_mean_absolute_error: 0.0084\n",
      "Epoch 15/30\n",
      "48000/48000 [==============================] - 5s 110us/step - loss: 0.0592 - acc: 0.9817 - mean_absolute_error: 0.0060 - val_loss: 0.0675 - val_acc: 0.9802 - val_mean_absolute_error: 0.0079\n",
      "Epoch 16/30\n",
      "48000/48000 [==============================] - 5s 109us/step - loss: 0.0561 - acc: 0.9829 - mean_absolute_error: 0.0057 - val_loss: 0.0649 - val_acc: 0.9804 - val_mean_absolute_error: 0.0073\n",
      "Epoch 17/30\n",
      "48000/48000 [==============================] - 5s 109us/step - loss: 0.0543 - acc: 0.9830 - mean_absolute_error: 0.0056 - val_loss: 0.0651 - val_acc: 0.9801 - val_mean_absolute_error: 0.0073\n",
      "Epoch 18/30\n",
      "48000/48000 [==============================] - 5s 109us/step - loss: 0.0535 - acc: 0.9835 - mean_absolute_error: 0.0055 - val_loss: 0.0678 - val_acc: 0.9797 - val_mean_absolute_error: 0.0075\n",
      "Epoch 19/30\n",
      "48000/48000 [==============================] - 5s 108us/step - loss: 0.0512 - acc: 0.9845 - mean_absolute_error: 0.0052 - val_loss: 0.0635 - val_acc: 0.9808 - val_mean_absolute_error: 0.0072\n",
      "Epoch 20/30\n",
      "48000/48000 [==============================] - 5s 108us/step - loss: 0.0513 - acc: 0.9840 - mean_absolute_error: 0.0052 - val_loss: 0.0643 - val_acc: 0.9804 - val_mean_absolute_error: 0.0072\n",
      "Epoch 21/30\n",
      "48000/48000 [==============================] - 5s 112us/step - loss: 0.0513 - acc: 0.9837 - mean_absolute_error: 0.0052 - val_loss: 0.0595 - val_acc: 0.9832 - val_mean_absolute_error: 0.0066\n",
      "Epoch 22/30\n",
      "48000/48000 [==============================] - 5s 113us/step - loss: 0.0493 - acc: 0.9844 - mean_absolute_error: 0.0050 - val_loss: 0.0604 - val_acc: 0.9826 - val_mean_absolute_error: 0.0068\n",
      "Epoch 23/30\n",
      "48000/48000 [==============================] - 5s 110us/step - loss: 0.0484 - acc: 0.9850 - mean_absolute_error: 0.0050 - val_loss: 0.0603 - val_acc: 0.9817 - val_mean_absolute_error: 0.0067\n",
      "Epoch 24/30\n",
      "48000/48000 [==============================] - 5s 110us/step - loss: 0.0460 - acc: 0.9857 - mean_absolute_error: 0.0047 - val_loss: 0.0568 - val_acc: 0.9840 - val_mean_absolute_error: 0.0062\n",
      "Epoch 25/30\n",
      "48000/48000 [==============================] - 5s 109us/step - loss: 0.0454 - acc: 0.9861 - mean_absolute_error: 0.0047 - val_loss: 0.0583 - val_acc: 0.9830 - val_mean_absolute_error: 0.0064\n",
      "Epoch 26/30\n",
      "48000/48000 [==============================] - 5s 110us/step - loss: 0.0453 - acc: 0.9856 - mean_absolute_error: 0.0046 - val_loss: 0.0583 - val_acc: 0.9825 - val_mean_absolute_error: 0.0064\n",
      "Epoch 27/30\n",
      "48000/48000 [==============================] - 5s 110us/step - loss: 0.0440 - acc: 0.9859 - mean_absolute_error: 0.0046 - val_loss: 0.0547 - val_acc: 0.9835 - val_mean_absolute_error: 0.0059\n",
      "Epoch 28/30\n",
      "48000/48000 [==============================] - 5s 110us/step - loss: 0.0421 - acc: 0.9871 - mean_absolute_error: 0.0043 - val_loss: 0.0542 - val_acc: 0.9834 - val_mean_absolute_error: 0.0058\n",
      "Epoch 29/30\n",
      "48000/48000 [==============================] - 5s 110us/step - loss: 0.0416 - acc: 0.9873 - mean_absolute_error: 0.0043 - val_loss: 0.0541 - val_acc: 0.9840 - val_mean_absolute_error: 0.0059\n",
      "Epoch 30/30\n",
      "48000/48000 [==============================] - 5s 110us/step - loss: 0.0413 - acc: 0.9875 - mean_absolute_error: 0.0042 - val_loss: 0.0571 - val_acc: 0.9836 - val_mean_absolute_error: 0.0061\n",
      "Mean loss on train set: 0.041\n",
      "Mean loss on validation set: 0.057\n",
      "Mean loss on test set: 0.047\n",
      "Mean accuracy on train set: 0.988\n",
      "Mean accuracy on validation set: 0.984\n",
      "Mean accuracy on test set: 0.986\n",
      "Process ended in:  160.04404\n"
     ]
    }
   ],
   "source": [
    "model = baseline_model()\n",
    "\n",
    "timerStart = datetime.datetime.now()\n",
    "result = model.fit(x_train, \n",
    "                   y_train,\n",
    "                   batch_size=batch_size,\n",
    "                   epochs=epochs,\n",
    "                   verbose=1,\n",
    "                   validation_data=(x_validation, y_validation))\n",
    "score = model.evaluate(x_test, y_test, verbose=0)\n",
    "\n",
    "timerStop = datetime.datetime.now()\n",
    "\n",
    "# Printing results\n",
    "print('Mean loss on train set:', round((result.history['loss'])[-1], 3))\n",
    "print('Mean loss on validation set:', round((result.history['val_loss'])[-1], 3))\n",
    "print('Mean loss on test set:', round(score[0], 3))\n",
    "print('Mean accuracy on train set:', round((result.history['acc'])[-1], 3))\n",
    "print('Mean accuracy on validation set:', round((result.history['val_acc'])[-1], 3))\n",
    "print('Mean accuracy on test set:', round(score[1], 3))\n",
    "print(\"Process ended in: \", (timerStop - timerStart).total_seconds())"
   ]
  },
  {
   "cell_type": "markdown",
   "metadata": {
    "colab_type": "text",
    "id": "UnZHVppaVd6-"
   },
   "source": [
    "<h2>5. Summary</h2>"
   ]
  },
  {
   "cell_type": "markdown",
   "metadata": {
    "colab_type": "text",
    "id": "fePN_hAtVmJw"
   },
   "source": [
    "<h3>5.1 Model Summary</h3>"
   ]
  },
  {
   "cell_type": "code",
   "execution_count": 0,
   "metadata": {
    "colab": {
     "base_uri": "https://localhost:8080/",
     "height": 425
    },
    "colab_type": "code",
    "id": "0ozcWylAJMIR",
    "outputId": "4ee2245c-1b00-4715-89f7-b95f6a59a791"
   },
   "outputs": [
    {
     "name": "stdout",
     "output_type": "stream",
     "text": [
      "_________________________________________________________________\n",
      "Layer (type)                 Output Shape              Param #   \n",
      "=================================================================\n",
      "conv2d_15 (Conv2D)           (None, 26, 26, 30)        300       \n",
      "_________________________________________________________________\n",
      "dropout_15 (Dropout)         (None, 26, 26, 30)        0         \n",
      "_________________________________________________________________\n",
      "max_pooling2d_15 (MaxPooling (None, 13, 13, 30)        0         \n",
      "_________________________________________________________________\n",
      "conv2d_16 (Conv2D)           (None, 11, 11, 10)        2710      \n",
      "_________________________________________________________________\n",
      "dropout_16 (Dropout)         (None, 11, 11, 10)        0         \n",
      "_________________________________________________________________\n",
      "max_pooling2d_16 (MaxPooling (None, 5, 5, 10)          0         \n",
      "_________________________________________________________________\n",
      "flatten_8 (Flatten)          (None, 250)               0         \n",
      "_________________________________________________________________\n",
      "dense_8 (Dense)              (None, 10)                2510      \n",
      "=================================================================\n",
      "Total params: 5,520\n",
      "Trainable params: 5,520\n",
      "Non-trainable params: 0\n",
      "_________________________________________________________________\n",
      "None\n"
     ]
    }
   ],
   "source": [
    "# Visualizing model summary\n",
    "print(model.summary())"
   ]
  },
  {
   "cell_type": "markdown",
   "metadata": {
    "colab_type": "text",
    "id": "ECyqAKLRVqJn"
   },
   "source": [
    "<h3>5.2 Accuracy and Loss Analysys</h3>"
   ]
  },
  {
   "cell_type": "code",
   "execution_count": 0,
   "metadata": {
    "colab": {
     "base_uri": "https://localhost:8080/",
     "height": 1223
    },
    "colab_type": "code",
    "id": "RBvjtgveRdsn",
    "outputId": "a11f823f-2a36-4710-8dfc-1a6907b9f0e6"
   },
   "outputs": [
    {
     "data": {
      "image/png": "[encoded data removed]",
      "text/plain": [
       "<matplotlib.figure.Figure at 0x7f7563551358>"
      ]
     },
     "metadata": {
      "tags": []
     },
     "output_type": "display_data"
    },
    {
     "data": {
      "image/png": "[encoded data removed]",
      "text/plain": [
       "<matplotlib.figure.Figure at 0x7f7562f88978>"
      ]
     },
     "metadata": {
      "tags": []
     },
     "output_type": "display_data"
    }
   ],
   "source": [
    "# Setting graph's size\n",
    "plt.rcParams[\"figure.figsize\"] = [12, 10]\n",
    "\n",
    "# ------------------------ Accuracy graph ------------------------\n",
    "\n",
    "# Loading datas\n",
    "plt.plot(result.history['acc'])\n",
    "plt.plot(result.history['val_acc'])\n",
    "plt.title('Model Accuracy')\n",
    "\n",
    "# Setting graph\n",
    "plt.ylabel('Accuracy')\n",
    "plt.xlabel('Epochs')\n",
    "plt.legend(['Train', 'Validation'], loc='upper left')\n",
    "axes = plt.gca()\n",
    "#axes.set_xlim([0, epochs])\n",
    "#axes.set_ylim([0, 1])\n",
    "\n",
    "# Showing graph\n",
    "plt.show()\n",
    "\n",
    "# ------------------------ Loss function graph ------------------------\n",
    "\n",
    "# Loading datas\n",
    "plt.plot(result.history['loss'])\n",
    "plt.plot(result.history['val_loss'])\n",
    "plt.title('Model Loss Error')\n",
    "\n",
    "# Setting graph\n",
    "plt.ylabel('Loss error')\n",
    "plt.xlabel('Epochs')\n",
    "plt.legend(['Train', 'Validation'], loc='upper left')\n",
    "axes = plt.gca()\n",
    "#axes.set_xlim([0, epochs])\n",
    "#axes.set_ylim([0, 1])\n",
    "\n",
    "# Showing graph\n",
    "plt.show()"
   ]
  },
  {
   "cell_type": "code",
   "execution_count": 0,
   "metadata": {
    "colab": {},
    "colab_type": "code",
    "id": "K6kEnUoirqkS"
   },
   "outputs": [],
   "source": []
  }
 ],
 "metadata": {
  "accelerator": "GPU",
  "colab": {
   "collapsed_sections": [],
   "name": "AML - Assignement 3 - final.ipynb",
   "provenance": [],
   "version": "0.3.2"
  },
  "kernelspec": {
   "display_name": "Python 3",
   "language": "python",
   "name": "python3"
  },
  "language_info": {
   "codemirror_mode": {
    "name": "ipython",
    "version": 3
   },
   "file_extension": ".py",
   "mimetype": "text/x-python",
   "name": "python",
   "nbconvert_exporter": "python",
   "pygments_lexer": "ipython3",
   "version": "3.6.5"
  }
 },
 "nbformat": 4,
 "nbformat_minor": 1
}
